{
 "cells": [
  {
   "cell_type": "markdown",
   "id": "85894421-3f27-4b07-b88e-2ca4ac5305ac",
   "metadata": {},
   "source": [
    "# Finding the Best Time to Post on Hacker News to Get the Most Comments\n",
    "Introduction\n",
    "Our main task in this project is to analyze Hacker News posts. We want to find out which posts are more likely to get the most comments. We also want to understand if the post creation time affects the number of comments they receive. As for some extra, we are going to do the same research for the points the posts receive.\n",
    "\n",
    "\n",
    "There are two types of posts on Hacker News. \n",
    "- One of them is Ask HN where users can ask the Hacker News community a specific question.\n",
    "- And the second one is Show HN where users show the Hacker News community a project, product, or just something interesting. We are going to focusing on these two types of posts to do our research.\n",
    "\n",
    "In our research, we learned that Ask HN gets the most comments. The creation time of the post also affects the number of comments per the post. The following will show the steps we used to achieve our goal."
   ]
  },
  {
   "cell_type": "code",
   "execution_count": 13,
   "id": "6eb37e71-b70b-4010-9adc-85766f2946f5",
   "metadata": {},
   "outputs": [],
   "source": [
    "from csv import reader\n",
    "import datetime as dt"
   ]
  },
  {
   "cell_type": "code",
   "execution_count": 14,
   "id": "9f6c99b0-4972-4648-9073-4d9e6c085c13",
   "metadata": {},
   "outputs": [],
   "source": [
    "opened_file = open('hacker_news.csv',\n",
    "                encoding = 'utf8')\n",
    "read_file = reader(opened_file)\n",
    "\n",
    "hn = list(read_file)\n",
    "\n",
    "header = hn[0]\n",
    "hn = hn[1:]"
   ]
  },
  {
   "cell_type": "code",
   "execution_count": 15,
   "id": "1bb14b13-1df0-49b8-bb92-f7f5f9c1f728",
   "metadata": {},
   "outputs": [
    {
     "name": "stdout",
     "output_type": "stream",
     "text": [
      "['id', 'title', 'url', 'num_points', 'num_comments', 'author', 'created_at']\n"
     ]
    }
   ],
   "source": [
    "print(header)"
   ]
  },
  {
   "cell_type": "markdown",
   "id": "b0e21596-b26e-4043-b3c7-d587410c8809",
   "metadata": {},
   "source": [
    "- `id`: the unique Identifier from Hacker News for the post\n",
    "- `title`: the title of the post\n",
    "- `url`: the URL that the posts links to, if the post has a URL\n",
    "- `num_points`: the number of points the post acquired, calculated as the total number of upvotes minus the total number of downvotes\n",
    "- `num_comments`: the number of comments on the post\n",
    "- `author`: the username of the person who submitted the post\n",
    "- `created_at`: the date and time of the post's submission"
   ]
  },
  {
   "cell_type": "code",
   "execution_count": 16,
   "id": "2b321a86-28b6-46af-a33e-d0fbcd02c866",
   "metadata": {},
   "outputs": [
    {
     "name": "stdout",
     "output_type": "stream",
     "text": [
      "['id', 'title', 'url', 'num_points', 'num_comments', 'author', 'created_at']\n"
     ]
    }
   ],
   "source": [
    "print(header)"
   ]
  },
  {
   "cell_type": "code",
   "execution_count": 17,
   "id": "28a279b1-30e7-4455-ad99-ff40ebc2cb7a",
   "metadata": {},
   "outputs": [
    {
     "name": "stdout",
     "output_type": "stream",
     "text": [
      "['12224879', 'Interactive Dynamic Video', 'http://www.interactivedynamicvideo.com/', '386', '52', 'ne0phyte', '8/4/2016 11:52']\n",
      "['10975351', 'How to Use Open Source and Shut the Fuck Up at the Same Time', 'http://hueniverse.com/2016/01/26/how-to-use-open-source-and-shut-the-fuck-up-at-the-same-time/', '39', '10', 'josep2', '1/26/2016 19:30']\n",
      "['11964716', \"Florida DJs May Face Felony for April Fools' Water Joke\", 'http://www.thewire.com/entertainment/2013/04/florida-djs-april-fools-water-joke/63798/', '2', '1', 'vezycash', '6/23/2016 22:20']\n",
      "['11919867', 'Technology ventures: From Idea to Enterprise', 'https://www.amazon.com/Technology-Ventures-Enterprise-Thomas-Byers/dp/0073523429', '3', '1', 'hswarna', '6/17/2016 0:01']\n",
      "['10301696', 'Note by Note: The Making of Steinway L1037 (2007)', 'http://www.nytimes.com/2007/11/07/movies/07stein.html?_r=0', '8', '2', 'walterbell', '9/30/2015 4:12']\n"
     ]
    }
   ],
   "source": [
    "\n",
    "for row in hn[:5]:\n",
    "    print(row)"
   ]
  },
  {
   "cell_type": "markdown",
   "id": "4ed3ce51-c89d-408c-b57b-791f6a84b552",
   "metadata": {},
   "source": [
    "# Step 1 . Extracting Ask HN and Show HN Posts\n",
    "First, we will separate the Ask HN and Show HN posts. to be able trhive down more information about our current dataset\n"
   ]
  },
  {
   "cell_type": "code",
   "execution_count": 18,
   "id": "058182da-3a84-42b7-ae1a-d6211f8bbe40",
   "metadata": {},
   "outputs": [
    {
     "name": "stdout",
     "output_type": "stream",
     "text": [
      "There Are of Number 'Ask Hn'Post 1744\n",
      "1162\n",
      "17194\n"
     ]
    }
   ],
   "source": [
    "\n",
    "ask_posts = []\n",
    "show_posts = []\n",
    "other_posts = []\n",
    "\n",
    "for post in hn:\n",
    "    title = post[1]\n",
    "    if title.lower().startswith(\"ask hn\"):\n",
    "        ask_posts.append(post)\n",
    "    elif title.lower().startswith(\"show hn\"):\n",
    "        show_posts.append(post)\n",
    "    else:\n",
    "        other_posts.append(post)\n",
    "        \n",
    "print('There Are of Number \\'Ask Hn\\'Post',len(ask_posts))\n",
    "print(len(show_posts))\n",
    "print(len(other_posts))\n"
   ]
  },
  {
   "cell_type": "code",
   "execution_count": 19,
   "id": "6c7885e7-93d3-4b4b-be6d-4300257716e9",
   "metadata": {},
   "outputs": [
    {
     "name": "stdout",
     "output_type": "stream",
     "text": [
      "14.038417431192661\n"
     ]
    }
   ],
   "source": [
    "total_ask_comment = 0\n",
    "\n",
    "for post in ask_posts:\n",
    "    total_ask_comment += int(post[4])\n",
    "\n",
    "avg_ask_comments = total_ask_comment / len(ask_posts)\n",
    "print(avg_ask_comments)"
   ]
  },
  {
   "cell_type": "markdown",
   "id": "308ffd1e-2793-4833-9944-530ecb595922",
   "metadata": {},
   "source": [
    "# Find average \n",
    "of *Total_ask_comment* and *total_Show_comment*"
   ]
  },
  {
   "cell_type": "code",
   "execution_count": 36,
   "id": "7f083e2f-d455-4533-b866-2b79e023486f",
   "metadata": {},
   "outputs": [
    {
     "name": "stdout",
     "output_type": "stream",
     "text": [
      "0\n"
     ]
    }
   ],
   "source": [
    "total_show_comment = 0\n",
    "\n",
    "for post in ask_posts:\n",
    "    total_ask_comment += int(post[4])\n",
    "\n",
    "avg_show_comments = total_show_comment / len(show_posts)\n",
    "print(total_show_comment)"
   ]
  },
  {
   "cell_type": "markdown",
   "id": "d1c126e6-a69c-4bba-99a8-1fc3ad64bfb0",
   "metadata": {},
   "source": [
    "On Average Ask post in our sample receive Approxiamtly 14 comment wheres show posts receive 10.since post are morelikely to recieve comment \n"
   ]
  },
  {
   "cell_type": "markdown",
   "id": "8d6978df-332b-4d0d-89c1-5511d32de3fe",
   "metadata": {},
   "source": [
    "# Finding The ammmount ask post and comment by Hour Created\n"
   ]
  },
  {
   "cell_type": "code",
   "execution_count": 29,
   "id": "da009808-8529-4fd9-8f04-39fd8bf194ab",
   "metadata": {},
   "outputs": [
    {
     "data": {
      "text/plain": [
       "{'09': 251,\n",
       " '13': 1253,\n",
       " '10': 793,\n",
       " '14': 1416,\n",
       " '16': 1814,\n",
       " '23': 543,\n",
       " '12': 687,\n",
       " '17': 1146,\n",
       " '15': 4477,\n",
       " '21': 1745,\n",
       " '20': 1722,\n",
       " '02': 1381,\n",
       " '18': 1439,\n",
       " '03': 421,\n",
       " '05': 464,\n",
       " '19': 1188,\n",
       " '01': 683,\n",
       " '22': 479,\n",
       " '08': 492,\n",
       " '04': 337,\n",
       " '00': 447,\n",
       " '06': 397,\n",
       " '07': 267,\n",
       " '11': 641}"
      ]
     },
     "execution_count": 29,
     "metadata": {},
     "output_type": "execute_result"
    }
   ],
   "source": [
    "result_list = []\n",
    "\n",
    "for post in ask_posts :\n",
    "    result_list.append(\n",
    "        [post[6],int(post[4])])\n",
    "\n",
    "counts_by_hour = {}\n",
    "comments_by_hour = {}\n",
    "date_format = \"%m/%d/%Y %H:%M\"\n",
    "\n",
    "for each_row in result_list:\n",
    "    date = each_row[0]\n",
    "    comment = each_row[1]\n",
    "    time = dt.datetime.strptime(date, date_format).strftime(\"%H\")\n",
    "    if time in counts_by_hour:\n",
    "        comments_by_hour[time] += comment\n",
    "        counts_by_hour[time] += 1\n",
    "    else:\n",
    "        comments_by_hour[time] = comment\n",
    "        counts_by_hour[time] = 1\n",
    "comments_by_hour\n"
   ]
  },
  {
   "cell_type": "code",
   "execution_count": 55,
   "id": "9584bac1-6716-482b-bd30-6629e65efb46",
   "metadata": {},
   "outputs": [
    {
     "data": {
      "text/plain": [
       "[['09', 5.5777777777777775],\n",
       " ['13', 14.741176470588234],\n",
       " ['10', 13.440677966101696],\n",
       " ['14', 13.233644859813085],\n",
       " ['16', 16.796296296296298],\n",
       " ['23', 7.985294117647059],\n",
       " ['12', 9.41095890410959],\n",
       " ['17', 11.46],\n",
       " ['15', 38.5948275862069],\n",
       " ['21', 16.009174311926607],\n",
       " ['20', 21.525],\n",
       " ['02', 23.810344827586206],\n",
       " ['18', 13.20183486238532],\n",
       " ['03', 7.796296296296297],\n",
       " ['05', 10.08695652173913],\n",
       " ['19', 10.8],\n",
       " ['01', 11.383333333333333],\n",
       " ['22', 6.746478873239437],\n",
       " ['08', 10.25],\n",
       " ['04', 7.170212765957447],\n",
       " ['00', 8.127272727272727],\n",
       " ['06', 9.022727272727273],\n",
       " ['07', 7.852941176470588],\n",
       " ['11', 11.051724137931034]]"
      ]
     },
     "execution_count": 55,
     "metadata": {},
     "output_type": "execute_result"
    }
   ],
   "source": [
    "# counting the average comment for #Ask_hn Post by hour\n",
    "avg_by_hour = []\n",
    "\n",
    "for avg_hour in comments_by_hour:\n",
    "    avg_by_hour.append([avg_hour , comments_by_hour[avg_hour]/counts_by_hour[avg_hour]])\n",
    "\n",
    "avg_by_hour\n",
    "\n",
    "\n"
   ]
  },
  {
   "cell_type": "markdown",
   "id": "1dcc0dc1-b13e-41be-9ee9-5918a137b464",
   "metadata": {},
   "source": [
    "# Sorting and printing Values from list of list\n",
    "\n",
    "the result in counting the average is not appealing,isn't? so we have to sorting the materials to 5 . this gives the reader appealing moments\n"
   ]
  },
  {
   "cell_type": "code",
   "execution_count": 56,
   "id": "8e503988-cd95-4082-be72-84c27b671fe5",
   "metadata": {},
   "outputs": [
    {
     "name": "stdout",
     "output_type": "stream",
     "text": [
      "[[5.5777777777777775, '09'], [14.741176470588234, '13'], [13.440677966101696, '10'], [13.233644859813085, '14'], [16.796296296296298, '16'], [7.985294117647059, '23'], [9.41095890410959, '12'], [11.46, '17'], [38.5948275862069, '15'], [16.009174311926607, '21'], [21.525, '20'], [23.810344827586206, '02'], [13.20183486238532, '18'], [7.796296296296297, '03'], [10.08695652173913, '05'], [10.8, '19'], [11.383333333333333, '01'], [6.746478873239437, '22'], [10.25, '08'], [7.170212765957447, '04'], [8.127272727272727, '00'], [9.022727272727273, '06'], [7.852941176470588, '07'], [11.051724137931034, '11']]\n"
     ]
    },
    {
     "data": {
      "text/plain": [
       "[[38.5948275862069, '15'],\n",
       " [23.810344827586206, '02'],\n",
       " [21.525, '20'],\n",
       " [16.796296296296298, '16'],\n",
       " [16.009174311926607, '21'],\n",
       " [14.741176470588234, '13'],\n",
       " [13.440677966101696, '10'],\n",
       " [13.233644859813085, '14'],\n",
       " [13.20183486238532, '18'],\n",
       " [11.46, '17'],\n",
       " [11.383333333333333, '01'],\n",
       " [11.051724137931034, '11'],\n",
       " [10.8, '19'],\n",
       " [10.25, '08'],\n",
       " [10.08695652173913, '05'],\n",
       " [9.41095890410959, '12'],\n",
       " [9.022727272727273, '06'],\n",
       " [8.127272727272727, '00'],\n",
       " [7.985294117647059, '23'],\n",
       " [7.852941176470588, '07'],\n",
       " [7.796296296296297, '03'],\n",
       " [7.170212765957447, '04'],\n",
       " [6.746478873239437, '22'],\n",
       " [5.5777777777777775, '09']]"
      ]
     },
     "execution_count": 56,
     "metadata": {},
     "output_type": "execute_result"
    }
   ],
   "source": [
    "swap_avg_by_hour = []\n",
    "\n",
    "for row in avg_by_hour:\n",
    "    swap_avg_by_hour.append([row[1], row[0]])\n",
    "print(swap_avg_by_hour)\n",
    "\n",
    "sorter_swap = sorted(swap_avg_by_hour, reverse = True)\n",
    "sorter_swap\n"
   ]
  },
  {
   "cell_type": "code",
   "execution_count": 49,
   "id": "43a890b0-292d-4247-90b5-728e0ceb4487",
   "metadata": {},
   "outputs": [
    {
     "name": "stdout",
     "output_type": "stream",
     "text": [
      "15:00: 38.59 average comments per post\n",
      "02:00: 23.81 average comments per post\n",
      "20:00: 21.52 average comments per post\n",
      "16:00: 16.80 average comments per post\n",
      "21:00: 16.01 average comments per post\n"
     ]
    }
   ],
   "source": [
    "# And Conclude that with Gives 5 Best  Top Hours for ask Post comments\n",
    "\n",
    "for avg, avg_by_hour in sorter_swap[:5]:\n",
    "    print(\n",
    "        \"{}: {:.2f} average comments per post\".format(\n",
    "            dt.datetime.strptime(avg_by_hour, \"%H\").strftime(\"%H:%M\"),avg\n",
    "        )\n",
    "    )"
   ]
  },
  {
   "cell_type": "markdown",
   "id": "3e5ca02d-a861-4e60-b204-e5e0fd8507ee",
   "metadata": {},
   "source": [
    "# Conclusion And Considerations\n",
    "\n",
    "According to the analysis, the hours of 15:00, 02:00, and 20:00 have the highest average comments per post, with 38.59, 23.81, and 21.52 respectively. Posting during these hours may increase the chances of receiving comments on a post. On the other hand, the hours of 16:00 and 21:00 have a relatively lower average of 16.80 and 16.01 comments per post respectively. However, it is important to note that these findings are based on the data set's time zone, and converting the times to the time zone you live in may yield different results.\n",
    "\n",
    "Comments are a great way to measure engagement with a post on Hacker News. They are certainly not the only metric though. This project limited it's scope to comments of just certain types of posts. Other engagement metrics such as view and votes were not considered but may play a significant role in measuring overall engagement.\n",
    "\n",
    "The next steps for determining when the best time to submit a post is involve a similar examination of views and votes. Analyzing all 3 metrics across time should provide a more sophisticated recommendation on the optimum submission time for maximizing engagement."
   ]
  },
  {
   "cell_type": "code",
   "execution_count": null,
   "id": "68fd036f-aff9-476a-968d-8eda911d33ab",
   "metadata": {},
   "outputs": [],
   "source": []
  }
 ],
 "metadata": {
  "kernelspec": {
   "display_name": "Python 3 (ipykernel)",
   "language": "python",
   "name": "python3"
  },
  "language_info": {
   "codemirror_mode": {
    "name": "ipython",
    "version": 3
   },
   "file_extension": ".py",
   "mimetype": "text/x-python",
   "name": "python",
   "nbconvert_exporter": "python",
   "pygments_lexer": "ipython3",
   "version": "3.9.12"
  }
 },
 "nbformat": 4,
 "nbformat_minor": 5
}
